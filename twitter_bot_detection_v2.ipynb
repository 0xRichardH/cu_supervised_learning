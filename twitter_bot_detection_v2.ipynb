{
 "cells": [
  {
   "cell_type": "markdown",
   "metadata": {},
   "source": [
    "## Prequirements"
   ]
  },
  {
   "cell_type": "code",
   "execution_count": 1,
   "metadata": {},
   "outputs": [
    {
     "name": "stdout",
     "output_type": "stream",
     "text": [
      "Requirement already satisfied: kagglehub in /Users/0xdev/.pyenv/versions/3.12.2/lib/python3.12/site-packages (0.3.6)\n",
      "Requirement already satisfied: pandas in /Users/0xdev/.pyenv/versions/3.12.2/lib/python3.12/site-packages (2.2.3)\n",
      "Requirement already satisfied: numpy in /Users/0xdev/.pyenv/versions/3.12.2/lib/python3.12/site-packages (1.26.4)\n",
      "Requirement already satisfied: matplotlib in /Users/0xdev/.pyenv/versions/3.12.2/lib/python3.12/site-packages (3.10.0)\n",
      "Requirement already satisfied: seaborn in /Users/0xdev/.pyenv/versions/3.12.2/lib/python3.12/site-packages (0.13.2)\n",
      "Requirement already satisfied: scikit-learn in /Users/0xdev/.pyenv/versions/3.12.2/lib/python3.12/site-packages (1.6.1)\n",
      "Requirement already satisfied: textblob in /Users/0xdev/.pyenv/versions/3.12.2/lib/python3.12/site-packages (0.19.0)\n",
      "Requirement already satisfied: packaging in /Users/0xdev/.pyenv/versions/3.12.2/lib/python3.12/site-packages (from kagglehub) (24.2)\n",
      "Requirement already satisfied: requests in /Users/0xdev/.pyenv/versions/3.12.2/lib/python3.12/site-packages (from kagglehub) (2.32.3)\n",
      "Requirement already satisfied: tqdm in /Users/0xdev/.pyenv/versions/3.12.2/lib/python3.12/site-packages (from kagglehub) (4.67.1)\n",
      "Requirement already satisfied: python-dateutil>=2.8.2 in /Users/0xdev/.pyenv/versions/3.12.2/lib/python3.12/site-packages (from pandas) (2.9.0.post0)\n",
      "Requirement already satisfied: pytz>=2020.1 in /Users/0xdev/.pyenv/versions/3.12.2/lib/python3.12/site-packages (from pandas) (2024.2)\n",
      "Requirement already satisfied: tzdata>=2022.7 in /Users/0xdev/.pyenv/versions/3.12.2/lib/python3.12/site-packages (from pandas) (2024.2)\n",
      "Requirement already satisfied: contourpy>=1.0.1 in /Users/0xdev/.pyenv/versions/3.12.2/lib/python3.12/site-packages (from matplotlib) (1.3.1)\n",
      "Requirement already satisfied: cycler>=0.10 in /Users/0xdev/.pyenv/versions/3.12.2/lib/python3.12/site-packages (from matplotlib) (0.12.1)\n",
      "Requirement already satisfied: fonttools>=4.22.0 in /Users/0xdev/.pyenv/versions/3.12.2/lib/python3.12/site-packages (from matplotlib) (4.55.3)\n",
      "Requirement already satisfied: kiwisolver>=1.3.1 in /Users/0xdev/.pyenv/versions/3.12.2/lib/python3.12/site-packages (from matplotlib) (1.4.8)\n",
      "Requirement already satisfied: pillow>=8 in /Users/0xdev/.pyenv/versions/3.12.2/lib/python3.12/site-packages (from matplotlib) (11.1.0)\n",
      "Requirement already satisfied: pyparsing>=2.3.1 in /Users/0xdev/.pyenv/versions/3.12.2/lib/python3.12/site-packages (from matplotlib) (3.2.0)\n",
      "Requirement already satisfied: scipy>=1.6.0 in /Users/0xdev/.pyenv/versions/3.12.2/lib/python3.12/site-packages (from scikit-learn) (1.15.1)\n",
      "Requirement already satisfied: joblib>=1.2.0 in /Users/0xdev/.pyenv/versions/3.12.2/lib/python3.12/site-packages (from scikit-learn) (1.4.2)\n",
      "Requirement already satisfied: threadpoolctl>=3.1.0 in /Users/0xdev/.pyenv/versions/3.12.2/lib/python3.12/site-packages (from scikit-learn) (3.5.0)\n",
      "Requirement already satisfied: nltk>=3.9 in /Users/0xdev/.pyenv/versions/3.12.2/lib/python3.12/site-packages (from textblob) (3.9.1)\n",
      "Requirement already satisfied: click in /Users/0xdev/.pyenv/versions/3.12.2/lib/python3.12/site-packages (from nltk>=3.9->textblob) (8.1.7)\n",
      "Requirement already satisfied: regex>=2021.8.3 in /Users/0xdev/.pyenv/versions/3.12.2/lib/python3.12/site-packages (from nltk>=3.9->textblob) (2024.9.11)\n",
      "Requirement already satisfied: six>=1.5 in /Users/0xdev/.pyenv/versions/3.12.2/lib/python3.12/site-packages (from python-dateutil>=2.8.2->pandas) (1.16.0)\n",
      "Requirement already satisfied: charset-normalizer<4,>=2 in /Users/0xdev/.pyenv/versions/3.12.2/lib/python3.12/site-packages (from requests->kagglehub) (3.4.0)\n",
      "Requirement already satisfied: idna<4,>=2.5 in /Users/0xdev/.pyenv/versions/3.12.2/lib/python3.12/site-packages (from requests->kagglehub) (3.10)\n",
      "Requirement already satisfied: urllib3<3,>=1.21.1 in /Users/0xdev/.pyenv/versions/3.12.2/lib/python3.12/site-packages (from requests->kagglehub) (2.2.3)\n",
      "Requirement already satisfied: certifi>=2017.4.17 in /Users/0xdev/.pyenv/versions/3.12.2/lib/python3.12/site-packages (from requests->kagglehub) (2024.8.30)\n",
      "\n",
      "\u001b[1m[\u001b[0m\u001b[34;49mnotice\u001b[0m\u001b[1;39;49m]\u001b[0m\u001b[39;49m A new release of pip is available: \u001b[0m\u001b[31;49m24.0\u001b[0m\u001b[39;49m -> \u001b[0m\u001b[32;49m25.0\u001b[0m\n",
      "\u001b[1m[\u001b[0m\u001b[34;49mnotice\u001b[0m\u001b[1;39;49m]\u001b[0m\u001b[39;49m To update, run: \u001b[0m\u001b[32;49m/Users/0xdev/.pyenv/versions/3.12.2/bin/python -m pip install --upgrade pip\u001b[0m\n",
      "Note: you may need to restart the kernel to use updated packages.\n"
     ]
    }
   ],
   "source": [
    "%pip install kagglehub pandas numpy matplotlib seaborn scikit-learn textblob"
   ]
  },
  {
   "cell_type": "code",
   "execution_count": 2,
   "metadata": {},
   "outputs": [],
   "source": [
    "import pandas as pd\n",
    "import numpy as np\n",
    "import matplotlib.pyplot as plt\n",
    "import seaborn as sns\n",
    "from sklearn.model_selection import train_test_split\n",
    "%matplotlib inline"
   ]
  },
  {
   "cell_type": "markdown",
   "metadata": {},
   "source": [
    "## Introduction\n",
    "Twitter bot detection is crucial for:\n",
    "- Preventing misinformation spread\n",
    "- Protecting real users from spam\n",
    "- Maintaining platform integrity"
   ]
  },
  {
   "cell_type": "markdown",
   "metadata": {},
   "source": [
    "## Define the problem"
   ]
  },
  {
   "cell_type": "markdown",
   "metadata": {},
   "source": [
    "- Nowsdays, Twitter (or X) has a lot of bots or fake accounts. These accounts are created to spread misinformation, spam, or manipulate the public opinion.\n",
    "- The goal is to detect these bots and take action against them."
   ]
  },
  {
   "cell_type": "markdown",
   "metadata": {},
   "source": [
    "## Find a dataset"
   ]
  },
  {
   "cell_type": "markdown",
   "metadata": {},
   "source": [
    "### Dataset Citation 📝\n",
    "\n",
    "- Dataset: [Twitter Bot Detection Dataset](https://www.kaggle.com/datasets/goyaladi/twitter-bot-detection-dataset)  \n",
    "- Author: Goyal Aditya  \n",
    "- Platform: Kaggle  \n",
    "- Accessed: 2025-01-19\n",
    "\n",
    "### Dataset Information 📊\n",
    "\n",
    "The dataset is provided in a CSV file format named 'bot_detection_dataset.csv'. It includes the following columns:\n",
    "\n",
    "- User ID: Unique identifier for each user in the dataset.\n",
    "- Username: The username associated with the user.\n",
    "- Tweet: The text content of the tweet.\n",
    "- Retweet Count: The number of times the tweet has been retweeted.\n",
    "- Mention Count: The number of mentions in the tweet.\n",
    "- Follower Count: The number of followers the user has.\n",
    "- Verified: A boolean value indicating whether the user is verified or not.\n",
    "- Bot Label: A label indicating whether the user is a bot (1) or not (0).\n",
    "- Location: The location associated with the user.\n",
    "- Created At: The date and time when the tweet was created.\n",
    "- Hashtags: The hashtags associated with the tweet."
   ]
  },
  {
   "cell_type": "markdown",
   "metadata": {},
   "source": [
    "## Data Exploration"
   ]
  },
  {
   "cell_type": "markdown",
   "metadata": {},
   "source": [
    "### Citation\n",
    "Dataset: [Twitter Bot Detection Dataset](https://www.kaggle.com/datasets/goyaladi/twitter-bot-detection-dataset)  \n",
    "Author: Goyal Aditya  \n",
    "Platform: Kaggle  \n",
    "Accessed: 2025-01-19"
   ]
  },
  {
   "cell_type": "markdown",
   "metadata": {},
   "source": [
    "Ensure kaggle.json is in the location ~/.kaggle/kaggle.json to use the API."
   ]
  },
  {
   "cell_type": "markdown",
   "metadata": {},
   "source": [
    "## Download the dataset and load it"
   ]
  },
  {
   "cell_type": "markdown",
   "metadata": {},
   "source": [
    "- Download the dataset from Kaggle"
   ]
  },
  {
   "cell_type": "code",
   "execution_count": 3,
   "metadata": {},
   "outputs": [
    {
     "name": "stderr",
     "output_type": "stream",
     "text": [
      "/Users/0xdev/.pyenv/versions/3.12.2/lib/python3.12/site-packages/tqdm/auto.py:21: TqdmWarning: IProgress not found. Please update jupyter and ipywidgets. See https://ipywidgets.readthedocs.io/en/stable/user_install.html\n",
      "  from .autonotebook import tqdm as notebook_tqdm\n"
     ]
    },
    {
     "name": "stdout",
     "output_type": "stream",
     "text": [
      "Path to dataset files: /Users/0xdev/.cache/kagglehub/datasets/goyaladi/twitter-bot-detection-dataset/versions/2\n"
     ]
    }
   ],
   "source": [
    "import kagglehub\n",
    "\n",
    "# Download latest version\n",
    "path = kagglehub.dataset_download(\"goyaladi/twitter-bot-detection-dataset\")\n",
    "\n",
    "print(\"Path to dataset files:\", path)"
   ]
  },
  {
   "cell_type": "markdown",
   "metadata": {},
   "source": [
    "- Load the dataset using pandas"
   ]
  },
  {
   "cell_type": "code",
   "execution_count": 4,
   "metadata": {},
   "outputs": [],
   "source": [
    "df = pd.read_csv(f'{path}/bot_detection_data.csv')"
   ]
  },
  {
   "cell_type": "code",
   "execution_count": 5,
   "metadata": {},
   "outputs": [
    {
     "name": "stdout",
     "output_type": "stream",
     "text": [
      "<class 'pandas.core.frame.DataFrame'>\n",
      "RangeIndex: 50000 entries, 0 to 49999\n",
      "Data columns (total 11 columns):\n",
      " #   Column          Non-Null Count  Dtype \n",
      "---  ------          --------------  ----- \n",
      " 0   User ID         50000 non-null  int64 \n",
      " 1   Username        50000 non-null  object\n",
      " 2   Tweet           50000 non-null  object\n",
      " 3   Retweet Count   50000 non-null  int64 \n",
      " 4   Mention Count   50000 non-null  int64 \n",
      " 5   Follower Count  50000 non-null  int64 \n",
      " 6   Verified        50000 non-null  bool  \n",
      " 7   Bot Label       50000 non-null  int64 \n",
      " 8   Location        50000 non-null  object\n",
      " 9   Created At      50000 non-null  object\n",
      " 10  Hashtags        41659 non-null  object\n",
      "dtypes: bool(1), int64(5), object(5)\n",
      "memory usage: 3.9+ MB\n"
     ]
    }
   ],
   "source": [
    "df.info()"
   ]
  },
  {
   "cell_type": "code",
   "execution_count": 6,
   "metadata": {},
   "outputs": [
    {
     "data": {
      "text/html": [
       "<div>\n",
       "<style scoped>\n",
       "    .dataframe tbody tr th:only-of-type {\n",
       "        vertical-align: middle;\n",
       "    }\n",
       "\n",
       "    .dataframe tbody tr th {\n",
       "        vertical-align: top;\n",
       "    }\n",
       "\n",
       "    .dataframe thead th {\n",
       "        text-align: right;\n",
       "    }\n",
       "</style>\n",
       "<table border=\"1\" class=\"dataframe\">\n",
       "  <thead>\n",
       "    <tr style=\"text-align: right;\">\n",
       "      <th></th>\n",
       "      <th>User ID</th>\n",
       "      <th>Retweet Count</th>\n",
       "      <th>Mention Count</th>\n",
       "      <th>Follower Count</th>\n",
       "      <th>Bot Label</th>\n",
       "    </tr>\n",
       "  </thead>\n",
       "  <tbody>\n",
       "    <tr>\n",
       "      <th>count</th>\n",
       "      <td>50000.000000</td>\n",
       "      <td>50000.00000</td>\n",
       "      <td>50000.000000</td>\n",
       "      <td>50000.000000</td>\n",
       "      <td>50000.000000</td>\n",
       "    </tr>\n",
       "    <tr>\n",
       "      <th>mean</th>\n",
       "      <td>548890.680540</td>\n",
       "      <td>50.00560</td>\n",
       "      <td>2.513760</td>\n",
       "      <td>4988.602380</td>\n",
       "      <td>0.500360</td>\n",
       "    </tr>\n",
       "    <tr>\n",
       "      <th>std</th>\n",
       "      <td>259756.681425</td>\n",
       "      <td>29.18116</td>\n",
       "      <td>1.708563</td>\n",
       "      <td>2878.742898</td>\n",
       "      <td>0.500005</td>\n",
       "    </tr>\n",
       "    <tr>\n",
       "      <th>min</th>\n",
       "      <td>100025.000000</td>\n",
       "      <td>0.00000</td>\n",
       "      <td>0.000000</td>\n",
       "      <td>0.000000</td>\n",
       "      <td>0.000000</td>\n",
       "    </tr>\n",
       "    <tr>\n",
       "      <th>25%</th>\n",
       "      <td>323524.250000</td>\n",
       "      <td>25.00000</td>\n",
       "      <td>1.000000</td>\n",
       "      <td>2487.750000</td>\n",
       "      <td>0.000000</td>\n",
       "    </tr>\n",
       "    <tr>\n",
       "      <th>50%</th>\n",
       "      <td>548147.000000</td>\n",
       "      <td>50.00000</td>\n",
       "      <td>3.000000</td>\n",
       "      <td>4991.500000</td>\n",
       "      <td>1.000000</td>\n",
       "    </tr>\n",
       "    <tr>\n",
       "      <th>75%</th>\n",
       "      <td>772983.000000</td>\n",
       "      <td>75.00000</td>\n",
       "      <td>4.000000</td>\n",
       "      <td>7471.000000</td>\n",
       "      <td>1.000000</td>\n",
       "    </tr>\n",
       "    <tr>\n",
       "      <th>max</th>\n",
       "      <td>999995.000000</td>\n",
       "      <td>100.00000</td>\n",
       "      <td>5.000000</td>\n",
       "      <td>10000.000000</td>\n",
       "      <td>1.000000</td>\n",
       "    </tr>\n",
       "  </tbody>\n",
       "</table>\n",
       "</div>"
      ],
      "text/plain": [
       "             User ID  Retweet Count  Mention Count  Follower Count  \\\n",
       "count   50000.000000    50000.00000   50000.000000    50000.000000   \n",
       "mean   548890.680540       50.00560       2.513760     4988.602380   \n",
       "std    259756.681425       29.18116       1.708563     2878.742898   \n",
       "min    100025.000000        0.00000       0.000000        0.000000   \n",
       "25%    323524.250000       25.00000       1.000000     2487.750000   \n",
       "50%    548147.000000       50.00000       3.000000     4991.500000   \n",
       "75%    772983.000000       75.00000       4.000000     7471.000000   \n",
       "max    999995.000000      100.00000       5.000000    10000.000000   \n",
       "\n",
       "          Bot Label  \n",
       "count  50000.000000  \n",
       "mean       0.500360  \n",
       "std        0.500005  \n",
       "min        0.000000  \n",
       "25%        0.000000  \n",
       "50%        1.000000  \n",
       "75%        1.000000  \n",
       "max        1.000000  "
      ]
     },
     "execution_count": 6,
     "metadata": {},
     "output_type": "execute_result"
    }
   ],
   "source": [
    "df.describe()"
   ]
  },
  {
   "cell_type": "code",
   "execution_count": 7,
   "metadata": {},
   "outputs": [
    {
     "data": {
      "text/html": [
       "<div>\n",
       "<style scoped>\n",
       "    .dataframe tbody tr th:only-of-type {\n",
       "        vertical-align: middle;\n",
       "    }\n",
       "\n",
       "    .dataframe tbody tr th {\n",
       "        vertical-align: top;\n",
       "    }\n",
       "\n",
       "    .dataframe thead th {\n",
       "        text-align: right;\n",
       "    }\n",
       "</style>\n",
       "<table border=\"1\" class=\"dataframe\">\n",
       "  <thead>\n",
       "    <tr style=\"text-align: right;\">\n",
       "      <th></th>\n",
       "      <th>User ID</th>\n",
       "      <th>Username</th>\n",
       "      <th>Tweet</th>\n",
       "      <th>Retweet Count</th>\n",
       "      <th>Mention Count</th>\n",
       "      <th>Follower Count</th>\n",
       "      <th>Verified</th>\n",
       "      <th>Bot Label</th>\n",
       "      <th>Location</th>\n",
       "      <th>Created At</th>\n",
       "      <th>Hashtags</th>\n",
       "    </tr>\n",
       "  </thead>\n",
       "  <tbody>\n",
       "    <tr>\n",
       "      <th>0</th>\n",
       "      <td>132131</td>\n",
       "      <td>flong</td>\n",
       "      <td>Station activity person against natural majori...</td>\n",
       "      <td>85</td>\n",
       "      <td>1</td>\n",
       "      <td>2353</td>\n",
       "      <td>False</td>\n",
       "      <td>1</td>\n",
       "      <td>Adkinston</td>\n",
       "      <td>2020-05-11 15:29:50</td>\n",
       "      <td>NaN</td>\n",
       "    </tr>\n",
       "    <tr>\n",
       "      <th>1</th>\n",
       "      <td>289683</td>\n",
       "      <td>hinesstephanie</td>\n",
       "      <td>Authority research natural life material staff...</td>\n",
       "      <td>55</td>\n",
       "      <td>5</td>\n",
       "      <td>9617</td>\n",
       "      <td>True</td>\n",
       "      <td>0</td>\n",
       "      <td>Sanderston</td>\n",
       "      <td>2022-11-26 05:18:10</td>\n",
       "      <td>both live</td>\n",
       "    </tr>\n",
       "    <tr>\n",
       "      <th>2</th>\n",
       "      <td>779715</td>\n",
       "      <td>roberttran</td>\n",
       "      <td>Manage whose quickly especially foot none to g...</td>\n",
       "      <td>6</td>\n",
       "      <td>2</td>\n",
       "      <td>4363</td>\n",
       "      <td>True</td>\n",
       "      <td>0</td>\n",
       "      <td>Harrisonfurt</td>\n",
       "      <td>2022-08-08 03:16:54</td>\n",
       "      <td>phone ahead</td>\n",
       "    </tr>\n",
       "    <tr>\n",
       "      <th>3</th>\n",
       "      <td>696168</td>\n",
       "      <td>pmason</td>\n",
       "      <td>Just cover eight opportunity strong policy which.</td>\n",
       "      <td>54</td>\n",
       "      <td>5</td>\n",
       "      <td>2242</td>\n",
       "      <td>True</td>\n",
       "      <td>1</td>\n",
       "      <td>Martinezberg</td>\n",
       "      <td>2021-08-14 22:27:05</td>\n",
       "      <td>ever quickly new I</td>\n",
       "    </tr>\n",
       "    <tr>\n",
       "      <th>4</th>\n",
       "      <td>704441</td>\n",
       "      <td>noah87</td>\n",
       "      <td>Animal sign six data good or.</td>\n",
       "      <td>26</td>\n",
       "      <td>3</td>\n",
       "      <td>8438</td>\n",
       "      <td>False</td>\n",
       "      <td>1</td>\n",
       "      <td>Camachoville</td>\n",
       "      <td>2020-04-13 21:24:21</td>\n",
       "      <td>foreign mention</td>\n",
       "    </tr>\n",
       "  </tbody>\n",
       "</table>\n",
       "</div>"
      ],
      "text/plain": [
       "   User ID        Username                                              Tweet  \\\n",
       "0   132131           flong  Station activity person against natural majori...   \n",
       "1   289683  hinesstephanie  Authority research natural life material staff...   \n",
       "2   779715      roberttran  Manage whose quickly especially foot none to g...   \n",
       "3   696168          pmason  Just cover eight opportunity strong policy which.   \n",
       "4   704441          noah87                      Animal sign six data good or.   \n",
       "\n",
       "   Retweet Count  Mention Count  Follower Count  Verified  Bot Label  \\\n",
       "0             85              1            2353     False          1   \n",
       "1             55              5            9617      True          0   \n",
       "2              6              2            4363      True          0   \n",
       "3             54              5            2242      True          1   \n",
       "4             26              3            8438     False          1   \n",
       "\n",
       "       Location           Created At            Hashtags  \n",
       "0     Adkinston  2020-05-11 15:29:50                 NaN  \n",
       "1    Sanderston  2022-11-26 05:18:10           both live  \n",
       "2  Harrisonfurt  2022-08-08 03:16:54         phone ahead  \n",
       "3  Martinezberg  2021-08-14 22:27:05  ever quickly new I  \n",
       "4  Camachoville  2020-04-13 21:24:21     foreign mention  "
      ]
     },
     "execution_count": 7,
     "metadata": {},
     "output_type": "execute_result"
    }
   ],
   "source": [
    "df.head()"
   ]
  },
  {
   "cell_type": "markdown",
   "metadata": {},
   "source": [
    "### Data Cleaning, Handling Missing Values, and Feature Engineering"
   ]
  },
  {
   "cell_type": "code",
   "execution_count": 8,
   "metadata": {},
   "outputs": [
    {
     "data": {
      "text/html": [
       "<div>\n",
       "<style scoped>\n",
       "    .dataframe tbody tr th:only-of-type {\n",
       "        vertical-align: middle;\n",
       "    }\n",
       "\n",
       "    .dataframe tbody tr th {\n",
       "        vertical-align: top;\n",
       "    }\n",
       "\n",
       "    .dataframe thead th {\n",
       "        text-align: right;\n",
       "    }\n",
       "</style>\n",
       "<table border=\"1\" class=\"dataframe\">\n",
       "  <thead>\n",
       "    <tr style=\"text-align: right;\">\n",
       "      <th></th>\n",
       "      <th>user_id</th>\n",
       "      <th>username</th>\n",
       "      <th>tweet</th>\n",
       "      <th>retweet_count</th>\n",
       "      <th>mention_count</th>\n",
       "      <th>follower_count</th>\n",
       "      <th>verified</th>\n",
       "      <th>bot_label</th>\n",
       "      <th>location</th>\n",
       "      <th>created_at</th>\n",
       "      <th>...</th>\n",
       "      <th>tweet_capital_ratio</th>\n",
       "      <th>tweet_punctuation_ratio</th>\n",
       "      <th>hashtags_length</th>\n",
       "      <th>hashtags_letter_count</th>\n",
       "      <th>retweet_follower_ratio</th>\n",
       "      <th>mention_tweet_ratio</th>\n",
       "      <th>follower_mention_ratio</th>\n",
       "      <th>verified_follower_ratio</th>\n",
       "      <th>sentiment_polarity</th>\n",
       "      <th>sentiment_subjectivity</th>\n",
       "    </tr>\n",
       "  </thead>\n",
       "  <tbody>\n",
       "    <tr>\n",
       "      <th>0</th>\n",
       "      <td>132131</td>\n",
       "      <td>flong</td>\n",
       "      <td>Station activity person against natural majori...</td>\n",
       "      <td>85</td>\n",
       "      <td>1</td>\n",
       "      <td>2353</td>\n",
       "      <td>False</td>\n",
       "      <td>1</td>\n",
       "      <td>adkinston</td>\n",
       "      <td>2020-05-11 15:29:50</td>\n",
       "      <td>...</td>\n",
       "      <td>0.012048</td>\n",
       "      <td>0.012048</td>\n",
       "      <td>4</td>\n",
       "      <td>4</td>\n",
       "      <td>0.036109</td>\n",
       "      <td>0.012048</td>\n",
       "      <td>1176.500000</td>\n",
       "      <td>0.000000</td>\n",
       "      <td>-0.050000</td>\n",
       "      <td>0.250000</td>\n",
       "    </tr>\n",
       "    <tr>\n",
       "      <th>1</th>\n",
       "      <td>289683</td>\n",
       "      <td>hinesstephanie</td>\n",
       "      <td>Authority research natural life material staff...</td>\n",
       "      <td>55</td>\n",
       "      <td>5</td>\n",
       "      <td>9617</td>\n",
       "      <td>True</td>\n",
       "      <td>0</td>\n",
       "      <td>sanderston</td>\n",
       "      <td>2022-11-26 05:18:10</td>\n",
       "      <td>...</td>\n",
       "      <td>0.012987</td>\n",
       "      <td>0.012987</td>\n",
       "      <td>9</td>\n",
       "      <td>8</td>\n",
       "      <td>0.005718</td>\n",
       "      <td>0.064935</td>\n",
       "      <td>1602.833333</td>\n",
       "      <td>0.000104</td>\n",
       "      <td>-0.100000</td>\n",
       "      <td>0.450000</td>\n",
       "    </tr>\n",
       "    <tr>\n",
       "      <th>2</th>\n",
       "      <td>779715</td>\n",
       "      <td>roberttran</td>\n",
       "      <td>Manage whose quickly especially foot none to g...</td>\n",
       "      <td>6</td>\n",
       "      <td>2</td>\n",
       "      <td>4363</td>\n",
       "      <td>True</td>\n",
       "      <td>0</td>\n",
       "      <td>harrisonfurt</td>\n",
       "      <td>2022-08-08 03:16:54</td>\n",
       "      <td>...</td>\n",
       "      <td>0.016393</td>\n",
       "      <td>0.016393</td>\n",
       "      <td>11</td>\n",
       "      <td>10</td>\n",
       "      <td>0.001375</td>\n",
       "      <td>0.032787</td>\n",
       "      <td>1454.333333</td>\n",
       "      <td>0.000229</td>\n",
       "      <td>0.000000</td>\n",
       "      <td>1.000000</td>\n",
       "    </tr>\n",
       "    <tr>\n",
       "      <th>3</th>\n",
       "      <td>696168</td>\n",
       "      <td>pmason</td>\n",
       "      <td>Just cover eight opportunity strong policy which.</td>\n",
       "      <td>54</td>\n",
       "      <td>5</td>\n",
       "      <td>2242</td>\n",
       "      <td>True</td>\n",
       "      <td>1</td>\n",
       "      <td>martinezberg</td>\n",
       "      <td>2021-08-14 22:27:05</td>\n",
       "      <td>...</td>\n",
       "      <td>0.020408</td>\n",
       "      <td>0.020408</td>\n",
       "      <td>18</td>\n",
       "      <td>15</td>\n",
       "      <td>0.024075</td>\n",
       "      <td>0.102041</td>\n",
       "      <td>373.666667</td>\n",
       "      <td>0.000446</td>\n",
       "      <td>0.433333</td>\n",
       "      <td>0.733333</td>\n",
       "    </tr>\n",
       "    <tr>\n",
       "      <th>4</th>\n",
       "      <td>704441</td>\n",
       "      <td>noah87</td>\n",
       "      <td>Animal sign six data good or.</td>\n",
       "      <td>26</td>\n",
       "      <td>3</td>\n",
       "      <td>8438</td>\n",
       "      <td>False</td>\n",
       "      <td>1</td>\n",
       "      <td>camachoville</td>\n",
       "      <td>2020-04-13 21:24:21</td>\n",
       "      <td>...</td>\n",
       "      <td>0.034483</td>\n",
       "      <td>0.034483</td>\n",
       "      <td>15</td>\n",
       "      <td>14</td>\n",
       "      <td>0.003081</td>\n",
       "      <td>0.103448</td>\n",
       "      <td>2109.500000</td>\n",
       "      <td>0.000000</td>\n",
       "      <td>0.700000</td>\n",
       "      <td>0.600000</td>\n",
       "    </tr>\n",
       "  </tbody>\n",
       "</table>\n",
       "<p>5 rows × 42 columns</p>\n",
       "</div>"
      ],
      "text/plain": [
       "   user_id        username                                              tweet  \\\n",
       "0   132131           flong  Station activity person against natural majori...   \n",
       "1   289683  hinesstephanie  Authority research natural life material staff...   \n",
       "2   779715      roberttran  Manage whose quickly especially foot none to g...   \n",
       "3   696168          pmason  Just cover eight opportunity strong policy which.   \n",
       "4   704441          noah87                      Animal sign six data good or.   \n",
       "\n",
       "   retweet_count  mention_count  follower_count  verified  bot_label  \\\n",
       "0             85              1            2353     False          1   \n",
       "1             55              5            9617      True          0   \n",
       "2              6              2            4363      True          0   \n",
       "3             54              5            2242      True          1   \n",
       "4             26              3            8438     False          1   \n",
       "\n",
       "       location          created_at  ... tweet_capital_ratio  \\\n",
       "0     adkinston 2020-05-11 15:29:50  ...            0.012048   \n",
       "1    sanderston 2022-11-26 05:18:10  ...            0.012987   \n",
       "2  harrisonfurt 2022-08-08 03:16:54  ...            0.016393   \n",
       "3  martinezberg 2021-08-14 22:27:05  ...            0.020408   \n",
       "4  camachoville 2020-04-13 21:24:21  ...            0.034483   \n",
       "\n",
       "  tweet_punctuation_ratio  hashtags_length  hashtags_letter_count  \\\n",
       "0                0.012048                4                      4   \n",
       "1                0.012987                9                      8   \n",
       "2                0.016393               11                     10   \n",
       "3                0.020408               18                     15   \n",
       "4                0.034483               15                     14   \n",
       "\n",
       "   retweet_follower_ratio  mention_tweet_ratio  follower_mention_ratio  \\\n",
       "0                0.036109             0.012048             1176.500000   \n",
       "1                0.005718             0.064935             1602.833333   \n",
       "2                0.001375             0.032787             1454.333333   \n",
       "3                0.024075             0.102041              373.666667   \n",
       "4                0.003081             0.103448             2109.500000   \n",
       "\n",
       "   verified_follower_ratio  sentiment_polarity  sentiment_subjectivity  \n",
       "0                 0.000000           -0.050000                0.250000  \n",
       "1                 0.000104           -0.100000                0.450000  \n",
       "2                 0.000229            0.000000                1.000000  \n",
       "3                 0.000446            0.433333                0.733333  \n",
       "4                 0.000000            0.700000                0.600000  \n",
       "\n",
       "[5 rows x 42 columns]"
      ]
     },
     "execution_count": 8,
     "metadata": {},
     "output_type": "execute_result"
    }
   ],
   "source": [
    "import string\n",
    "from textblob import TextBlob\n",
    "import re\n",
    "\n",
    "df.columns = [col.lower().replace(\" \", \"_\") for col in df.columns]\n",
    "df['location'] = df['location'].fillna('none').str.lower()\n",
    "df['hashtags'] = df['hashtags'].fillna('none')\n",
    "df['bot_label'] = df['bot_label'].astype(int)\n",
    "\n",
    "df['created_at'] = pd.to_datetime(df['created_at'])\n",
    "df['created_at_date'] = df['created_at'].dt.date\n",
    "df['created_at_year'] = df['created_at'].dt.year\n",
    "df['created_at_month'] = df['created_at'].dt.month\n",
    "df['created_at_hour'] = df['created_at'].dt.hour\n",
    "df['created_at_dayofweek'] = df['created_at'].dt.dayofweek\n",
    "df['created_at_is_weekend'] = df['created_at_dayofweek'].isin([5, 6]).astype(int)\n",
    "df['account_age_days'] = (pd.Timestamp.now() - df['created_at']).dt.days\n",
    "\n",
    "df['username_length'] = df['username'].apply(len)\n",
    "df['username_digit_count'] = df['username'].apply(lambda x: sum(c.isdigit() for c in x))\n",
    "df['username_letter_count'] = df['username'].apply(lambda x: sum(c.isalpha() for c in x))\n",
    "df['username_special_char_count'] = df['username'].apply(lambda x: sum(c in string.punctuation for c in x))\n",
    "df['username_digit_ratio'] = df['username_digit_count'] / df['username_length'] * 100\n",
    "df['username_has_bot_pattern'] = df['username'].str.contains(r'bot|b0t|robot|_bot_', case=False).astype(int)\n",
    "df['username_has_repeating_chars'] = df['username'].apply(lambda x: bool(re.search(r'(.)\\1{2,}', x))).astype(int)\n",
    "\n",
    "df['tweet_length'] = df['tweet'].apply(len)\n",
    "df['tweet_digit_count'] = df['tweet'].apply(lambda x: sum(c.isdigit() for c in x))\n",
    "df['tweet_letter_count'] = df['tweet'].apply(lambda x: sum(c.isalpha() for c in x))\n",
    "df['tweet_punctuation_count'] = df['tweet'].apply(lambda x: sum(c in string.punctuation for c in x))\n",
    "df['tweet_digit_ratio'] = df['tweet_digit_count'] / df['tweet_length'] * 100\n",
    "df['tweet_word_count'] = df['tweet'].apply(lambda x: len(x.split()))\n",
    "df['avg_word_length'] = df['tweet_length'] / df['tweet_word_count']\n",
    "df['tweet_capital_ratio'] = df['tweet'].apply(lambda x: sum(1 for c in x if c.isupper())) / df['tweet_length']\n",
    "df['tweet_punctuation_count'] = df['tweet'].apply(lambda x: sum(c in string.punctuation for c in x))\n",
    "df['tweet_punctuation_ratio'] = df['tweet_punctuation_count'] / df['tweet_length']\n",
    "\n",
    "df['hashtags_length'] = df['hashtags'].apply(len)\n",
    "df['hashtags_letter_count'] = df['hashtags'].apply(lambda x: sum(c.isalpha() for c in x))\n",
    "\n",
    "df['retweet_follower_ratio'] = df['retweet_count'] / (df['follower_count'] + 1)  # Add 1 to avoid division by zero\n",
    "df['mention_tweet_ratio'] = df['mention_count'] / df['tweet_length']\n",
    "df['follower_mention_ratio'] = df['follower_count'] / (df['mention_count'] + 1)  # Add 1 to avoid division by zero\n",
    "df['verified_follower_ratio'] = df['verified'] / (df['follower_count'] + 1)  # Add 1 to avoid division by zero\n",
    "\n",
    "\n",
    "# tweet sentiment\n",
    "df['sentiment_polarity'] = df['tweet'].apply(lambda x: TextBlob(x).sentiment.polarity)\n",
    "df['sentiment_subjectivity'] = df['tweet'].apply(lambda x: TextBlob(x).sentiment.subjectivity)\n",
    "\n",
    "\n",
    "\n",
    "df.head()"
   ]
  },
  {
   "cell_type": "code",
   "execution_count": 9,
   "metadata": {},
   "outputs": [
    {
     "data": {
      "image/png": "[encoded data removed]",
      "text/plain": [
       "<Figure size 1200x600 with 1 Axes>"
      ]
     },
     "metadata": {},
     "output_type": "display_data"
    }
   ],
   "source": [
    "plt.figure(figsize=(12,6))\n",
    "sns.countplot(data=df, x='bot_label')\n",
    "plt.title('Distribution of Bot vs Non-Bot Accounts')\n",
    "plt.show()"
   ]
  },
  {
   "cell_type": "code",
   "execution_count": 10,
   "metadata": {},
   "outputs": [
    {
     "name": "stdout",
     "output_type": "stream",
     "text": [
      "<class 'pandas.core.frame.DataFrame'>\n",
      "RangeIndex: 50000 entries, 0 to 49999\n",
      "Data columns (total 42 columns):\n",
      " #   Column                        Non-Null Count  Dtype         \n",
      "---  ------                        --------------  -----         \n",
      " 0   user_id                       50000 non-null  int64         \n",
      " 1   username                      50000 non-null  object        \n",
      " 2   tweet                         50000 non-null  object        \n",
      " 3   retweet_count                 50000 non-null  int64         \n",
      " 4   mention_count                 50000 non-null  int64         \n",
      " 5   follower_count                50000 non-null  int64         \n",
      " 6   verified                      50000 non-null  bool          \n",
      " 7   bot_label                     50000 non-null  int64         \n",
      " 8   location                      50000 non-null  object        \n",
      " 9   created_at                    50000 non-null  datetime64[ns]\n",
      " 10  hashtags                      50000 non-null  object        \n",
      " 11  created_at_date               50000 non-null  object        \n",
      " 12  created_at_year               50000 non-null  int32         \n",
      " 13  created_at_month              50000 non-null  int32         \n",
      " 14  created_at_hour               50000 non-null  int32         \n",
      " 15  created_at_dayofweek          50000 non-null  int32         \n",
      " 16  created_at_is_weekend         50000 non-null  int64         \n",
      " 17  account_age_days              50000 non-null  int64         \n",
      " 18  username_length               50000 non-null  int64         \n",
      " 19  username_digit_count          50000 non-null  int64         \n",
      " 20  username_letter_count         50000 non-null  int64         \n",
      " 21  username_special_char_count   50000 non-null  int64         \n",
      " 22  username_digit_ratio          50000 non-null  float64       \n",
      " 23  username_has_bot_pattern      50000 non-null  int64         \n",
      " 24  username_has_repeating_chars  50000 non-null  int64         \n",
      " 25  tweet_length                  50000 non-null  int64         \n",
      " 26  tweet_digit_count             50000 non-null  int64         \n",
      " 27  tweet_letter_count            50000 non-null  int64         \n",
      " 28  tweet_punctuation_count       50000 non-null  int64         \n",
      " 29  tweet_digit_ratio             50000 non-null  float64       \n",
      " 30  tweet_word_count              50000 non-null  int64         \n",
      " 31  avg_word_length               50000 non-null  float64       \n",
      " 32  tweet_capital_ratio           50000 non-null  float64       \n",
      " 33  tweet_punctuation_ratio       50000 non-null  float64       \n",
      " 34  hashtags_length               50000 non-null  int64         \n",
      " 35  hashtags_letter_count         50000 non-null  int64         \n",
      " 36  retweet_follower_ratio        50000 non-null  float64       \n",
      " 37  mention_tweet_ratio           50000 non-null  float64       \n",
      " 38  follower_mention_ratio        50000 non-null  float64       \n",
      " 39  verified_follower_ratio       50000 non-null  float64       \n",
      " 40  sentiment_polarity            50000 non-null  float64       \n",
      " 41  sentiment_subjectivity        50000 non-null  float64       \n",
      "dtypes: bool(1), datetime64[ns](1), float64(11), int32(4), int64(20), object(5)\n",
      "memory usage: 14.9+ MB\n"
     ]
    }
   ],
   "source": [
    "df.info()"
   ]
  },
  {
   "cell_type": "markdown",
   "metadata": {},
   "source": [
    "### Drop Non-Numeric and Redundant Columns\n",
    "\n",
    "The following columns are dropped to prepare the data for machine learning:\n",
    "\n",
    "1. Non-numeric columns:\n",
    "    - user_id \n",
    "    - username\n",
    "    - tweet\n",
    "    - location\n",
    "    - hashtags\n",
    "    - created_at\n",
    "    - created_at_date\n",
    "\n",
    "2. Redundant/low correlation features:\n",
    "    - username_special_char_count\n",
    "    - tweet_digit_count \n",
    "    - tweet_punctuation_count\n",
    "    - tweet_digit_ratio\n",
    "    - tweet_word_count\n",
    "    - created_at_dayofweek\n",
    "    - retweet_follower_ratio \n",
    "    - username_length\n",
    "    - verified\n",
    "    - created_at_year\n",
    "    - username_letter_count\n",
    "    - verified_follower_ratio\n",
    "    - mention_tweet_ratio\n",
    "    - hashtags_length\n",
    "    - hashtags_letter_count\n",
    "    - mention_count\n",
    "    - username_digit_count\n",
    "    - tweet_letter_count\n",
    "    - follower_mention_ratio\n",
    "    - sentiment_polarity \n",
    "    - created_at_hour\n",
    "    - created_at_is_weekend\n",
    "    - tweet_punctuation_ratio\n",
    "    - retweet_count\n",
    "    - follower_count\n",
    "    - account_age_days\n",
    "    - tweet_length\n",
    "\n",
    "This data cleaning ensures we have purely numeric features with meaningful correlations for our machine learning models."
   ]
  },
  {
   "cell_type": "markdown",
   "metadata": {},
   "source": [
    "- Drop the non-numeric columns to ensure we have only numeric features for machine learning."
   ]
  },
  {
   "cell_type": "code",
   "execution_count": 11,
   "metadata": {},
   "outputs": [],
   "source": [
    "df = df.drop(columns=['user_id', 'username', 'tweet', 'location', 'hashtags', 'created_at', 'created_at_date'])"
   ]
  },
  {
   "cell_type": "code",
   "execution_count": 12,
   "metadata": {},
   "outputs": [
    {
     "name": "stderr",
     "output_type": "stream",
     "text": [
      "/Users/0xdev/.pyenv/versions/3.12.2/lib/python3.12/site-packages/sklearn/feature_selection/_univariate_selection.py:111: UserWarning: Features [13 18 20 21] are constant.\n",
      "  warnings.warn(\"Features %s are constant.\" % constant_features_idx, UserWarning)\n",
      "/Users/0xdev/.pyenv/versions/3.12.2/lib/python3.12/site-packages/sklearn/feature_selection/_univariate_selection.py:112: RuntimeWarning: invalid value encountered in divide\n",
      "  f = msb / msw\n"
     ]
    },
    {
     "data": {
      "image/png": "[encoded data removed]",
      "text/plain": [
       "<Figure size 1000x600 with 1 Axes>"
      ]
     },
     "metadata": {},
     "output_type": "display_data"
    },
    {
     "name": "stdout",
     "output_type": "stream",
     "text": [
      "\n",
      "Top selected features:\n",
      "                         Feature     Score\n",
      "33        sentiment_subjectivity  4.552984\n",
      "16  username_has_repeating_chars  4.394886\n",
      "1                  mention_count  2.388983\n",
      "15      username_has_bot_pattern  1.992087\n",
      "5               created_at_month  1.889892\n",
      "<class 'pandas.core.frame.DataFrame'>\n",
      "RangeIndex: 50000 entries, 0 to 49999\n",
      "Data columns (total 6 columns):\n",
      " #   Column                        Non-Null Count  Dtype  \n",
      "---  ------                        --------------  -----  \n",
      " 0   mention_count                 50000 non-null  int64  \n",
      " 1   created_at_month              50000 non-null  int32  \n",
      " 2   username_has_bot_pattern      50000 non-null  int64  \n",
      " 3   username_has_repeating_chars  50000 non-null  int64  \n",
      " 4   sentiment_subjectivity        50000 non-null  float64\n",
      " 5   bot_label                     50000 non-null  int64  \n",
      "dtypes: float64(1), int32(1), int64(4)\n",
      "memory usage: 2.1 MB\n"
     ]
    }
   ],
   "source": [
    "from sklearn.feature_selection import SelectKBest, f_classif\n",
    "\n",
    "# Separate features and target from the current dataframe\n",
    "X = df.drop(columns=['bot_label'])\n",
    "y = df['bot_label']\n",
    "\n",
    "# Create SelectKBest instance to select top 5 features\n",
    "selector = SelectKBest(score_func=f_classif, k=5)\n",
    "\n",
    "# Fit and transform the features\n",
    "X_new = selector.fit_transform(X, y)\n",
    "\n",
    "# Get selected feature names\n",
    "selected_features_mask = selector.get_support()\n",
    "selected_features = X.columns[selected_features_mask].tolist()\n",
    "\n",
    "# Get feature scores\n",
    "feature_scores = pd.DataFrame({\n",
    "    'Feature': X.columns,\n",
    "    'Score': selector.scores_\n",
    "})\n",
    "feature_scores = feature_scores.sort_values('Score', ascending=False)\n",
    "\n",
    "# Create new dataframe with selected features\n",
    "X_selected = X[selected_features]\n",
    "\n",
    "# Visualize feature scores\n",
    "plt.figure(figsize=(10, 6))\n",
    "sns.barplot(x='Score', y='Feature', data=feature_scores)\n",
    "plt.title('Feature Importance Scores')\n",
    "plt.tight_layout()\n",
    "plt.show()\n",
    "\n",
    "# Print selected features and their scores\n",
    "print(\"\\nTop selected features:\")\n",
    "print(feature_scores.head())\n",
    "\n",
    "# Create final dataset with selected features\n",
    "final_df = pd.concat([X_selected, y], axis=1)\n",
    "final_df.info()"
   ]
  },
  {
   "cell_type": "markdown",
   "metadata": {},
   "source": [
    "## Split the Data into Training and Testing Sets"
   ]
  },
  {
   "cell_type": "code",
   "execution_count": 13,
   "metadata": {},
   "outputs": [],
   "source": [
    "X = final_df.drop(columns=['bot_label'])\n",
    "y = final_df['bot_label']\n",
    "X_train, X_test, y_train, y_test = train_test_split(X, y, test_size=0.2, shuffle=True, random_state=42)"
   ]
  },
  {
   "cell_type": "code",
   "execution_count": 14,
   "metadata": {},
   "outputs": [],
   "source": [
    "from sklearn.preprocessing import StandardScaler\n",
    "scaler = StandardScaler()\n",
    "X_train = scaler.fit_transform(X_train)\n",
    "X_test = scaler.transform(X_test)"
   ]
  },
  {
   "cell_type": "code",
   "execution_count": 15,
   "metadata": {},
   "outputs": [
    {
     "name": "stdout",
     "output_type": "stream",
     "text": [
      "X_train shape: (40000, 5)\n",
      "X_test shape: (10000, 5)\n",
      "y_train shape: (40000,)\n",
      "y_test shape: (10000,)\n"
     ]
    }
   ],
   "source": [
    "# print the split datasets\n",
    "print(\"X_train shape:\", X_train.shape)\n",
    "print(\"X_test shape:\", X_test.shape)\n",
    "print(\"y_train shape:\", y_train.shape)\n",
    "print(\"y_test shape:\", y_test.shape)"
   ]
  },
  {
   "cell_type": "markdown",
   "metadata": {},
   "source": [
    "## Model Selection"
   ]
  },
  {
   "cell_type": "code",
   "execution_count": 16,
   "metadata": {},
   "outputs": [
    {
     "name": "stdout",
     "output_type": "stream",
     "text": [
      "Model: RandomForestClassifier\n",
      "accuracy: 0.5047\n",
      "precision: 0.5080\n",
      "recall: 0.4970\n",
      "roc_auc: 0.5047\n",
      "\n",
      "Model: LogisticRegression\n",
      "accuracy: 0.5011\n",
      "precision: 0.5044\n",
      "recall: 0.4853\n",
      "roc_auc: 0.5012\n",
      "\n",
      "Model: RBF_SVC\n",
      "accuracy: 0.5015\n",
      "precision: 0.5037\n",
      "recall: 0.6312\n",
      "roc_auc: 0.5007\n",
      "\n",
      "Model: LinearSVC\n",
      "accuracy: 0.5009\n",
      "precision: 0.5044\n",
      "recall: 0.4632\n",
      "roc_auc: 0.5011\n",
      "\n"
     ]
    }
   ],
   "source": [
    "from sklearn.ensemble import RandomForestClassifier\n",
    "from sklearn.linear_model import LogisticRegression\n",
    "from sklearn.svm import SVC, LinearSVC\n",
    "from sklearn.metrics import accuracy_score, precision_score, recall_score, roc_auc_score\n",
    "\n",
    "# Define models\n",
    "models = {\n",
    "    'RandomForestClassifier': RandomForestClassifier(n_estimators=100, random_state=42),\n",
    "    'LogisticRegression': LogisticRegression(class_weight=\"balanced\", solver=\"liblinear\", random_state=42),\n",
    "    'RBF_SVC': SVC(kernel='rbf', random_state=42),\n",
    "    'LinearSVC': LinearSVC(random_state=42)\n",
    "}\n",
    "\n",
    "# Train and evaluate models\n",
    "results = {}\n",
    "for model_name, model in models.items():\n",
    "    model.fit(X_train, y_train)\n",
    "    y_pred = model.predict(X_test)\n",
    "    results[model_name] = {\n",
    "        'accuracy': accuracy_score(y_test, y_pred),\n",
    "        'precision': precision_score(y_test, y_pred),\n",
    "        'recall': recall_score(y_test, y_pred),\n",
    "        'roc_auc': roc_auc_score(y_test, y_pred)\n",
    "    }\n",
    "\n",
    "# Print results\n",
    "for model_name, metrics in results.items():\n",
    "    print(f\"Model: {model_name}\")\n",
    "    for metric_name, metric_value in metrics.items():\n",
    "        print(f\"{metric_name}: {metric_value:.4f}\")\n",
    "    print()"
   ]
  },
  {
   "cell_type": "code",
   "execution_count": 17,
   "metadata": {},
   "outputs": [
    {
     "data": {
      "image/png": "[encoded data removed]",
      "text/plain": [
       "<Figure size 1400x1000 with 4 Axes>"
      ]
     },
     "metadata": {},
     "output_type": "display_data"
    }
   ],
   "source": [
    "import matplotlib.pyplot as plt\n",
    "import seaborn as sns\n",
    "import pandas as pd\n",
    "\n",
    "# Convert results to a DataFrame\n",
    "results_df = pd.DataFrame(results).T\n",
    "\n",
    "# Plot the results\n",
    "metrics = ['accuracy', 'precision', 'recall', 'roc_auc']\n",
    "fig, axes = plt.subplots(2, 2, figsize=(14, 10))\n",
    "\n",
    "for i, metric in enumerate(metrics):\n",
    "    ax = axes[i//2, i%2]\n",
    "    sns.barplot(x=results_df.index, y=results_df[metric], ax=ax)\n",
    "    ax.set_title(f'Model Comparison: {metric}')\n",
    "    ax.set_ylabel(metric)\n",
    "    ax.set_xlabel('Model')\n",
    "\n",
    "plt.tight_layout()\n",
    "plt.show()"
   ]
  },
  {
   "cell_type": "markdown",
   "metadata": {},
   "source": [
    "## Tune the hyperparameters of SVC (Support Vector Classifier)"
   ]
  },
  {
   "cell_type": "code",
   "execution_count": 18,
   "metadata": {},
   "outputs": [
    {
     "name": "stdout",
     "output_type": "stream",
     "text": [
      "\n",
      "Best parameters: {'C': 32.0, 'gamma': 0.03125}\n",
      "\n",
      "Best cross-validation score: 0.6647653357350145\n",
      "\n",
      "Performance metrics:\n",
      "Accuracy: 0.5044\n",
      "Precision: 0.5058678196417542\n",
      "Recall: 0.651033386327504\n",
      "ROC AUC: 0.503455501537343\n",
      "\n",
      "Detailed classification report:\n",
      "              precision    recall  f1-score   support\n",
      "\n",
      "           0       0.50      0.36      0.42      4968\n",
      "           1       0.51      0.65      0.57      5032\n",
      "\n",
      "    accuracy                           0.50     10000\n",
      "   macro avg       0.50      0.50      0.49     10000\n",
      "weighted avg       0.50      0.50      0.49     10000\n",
      "\n"
     ]
    }
   ],
   "source": [
    "from sklearn.svm import SVC\n",
    "from sklearn.model_selection import GridSearchCV\n",
    "from sklearn.metrics import classification_report, accuracy_score, precision_score, recall_score, roc_auc_score\n",
    "\n",
    "# Define parameter grid\n",
    "C_range = np.logspace(-5, 5, num=11, base=2)\n",
    "gamma_range = np.logspace(-5, 5, num=11, base=2)\n",
    "param_grid = {\n",
    "    'C': C_range,\n",
    "    'gamma': gamma_range,\n",
    "}\n",
    "\n",
    "# Initialize GridSearchCV\n",
    "grid_search = GridSearchCV(\n",
    "    estimator=SVC(kernel='rbf', random_state=42),\n",
    "    param_grid=param_grid,\n",
    "    cv=3, # K-fold cross-validation\n",
    "    scoring='recall',  # optimize for recall since it's important for bot detection\n",
    "    n_jobs=-1\n",
    ")\n",
    "\n",
    "# Fit grid search\n",
    "grid_search.fit(X_train, y_train)\n",
    "\n",
    "# Get best model\n",
    "best_model = grid_search.best_estimator_\n",
    "\n",
    "# Make predictions\n",
    "y_pred = best_model.predict(X_test)\n",
    "\n",
    "# Print results\n",
    "print(\"\\nBest parameters:\", grid_search.best_params_)\n",
    "print(\"\\nBest cross-validation score:\", grid_search.best_score_)\n",
    "print(\"\\nPerformance metrics:\")\n",
    "print(\"Accuracy:\", accuracy_score(y_test, y_pred))\n",
    "print(\"Precision:\", precision_score(y_test, y_pred))\n",
    "print(\"Recall:\", recall_score(y_test, y_pred))\n",
    "print(\"ROC AUC:\", roc_auc_score(y_test, y_pred))\n",
    "print(\"\\nDetailed classification report:\")\n",
    "print(classification_report(y_test, y_pred))"
   ]
  },
  {
   "cell_type": "code",
   "execution_count": null,
   "metadata": {},
   "outputs": [],
   "source": [
    "from sklearn.model_selection import cross_val_score\n",
    "\n",
    "recall_scores = cross_val_score(best_model, X, y, cv=5, scoring='recall')\n",
    "print(f\"Cross-validation recall scores: {recall_scores}\")\n",
    "print(f\"Mean recall_scores: {recall_scores.mean()}\")"
   ]
  },
  {
   "cell_type": "markdown",
   "metadata": {},
   "source": [
    "## Train the model (without using the fine-tuned hyperparameters)"
   ]
  },
  {
   "cell_type": "markdown",
   "metadata": {},
   "source": [
    "For bot detection, use recall as primary scoring metric since false negatives (missing bots) are more critical than false positives."
   ]
  },
  {
   "cell_type": "code",
   "execution_count": 21,
   "metadata": {},
   "outputs": [
    {
     "name": "stdout",
     "output_type": "stream",
     "text": [
      "Accuracy: 0.5015\n",
      "Precision: 0.5037272006344171\n",
      "Recall: 0.6311605723370429\n",
      "ROC AUC: 0.5006648272313234\n",
      "              precision    recall  f1-score   support\n",
      "\n",
      " Not Bot (0)       0.50      0.37      0.42      4968\n",
      "     Bot (1)       0.50      0.63      0.56      5032\n",
      "\n",
      "    accuracy                           0.50     10000\n",
      "   macro avg       0.50      0.50      0.49     10000\n",
      "weighted avg       0.50      0.50      0.49     10000\n",
      "\n",
      "Cross-validation recall scores: [0.71103118 0.67985612 0.86570743 0.56126324 0.78392964]\n",
      "Mean recall_scores: 0.7203575216980125\n"
     ]
    }
   ],
   "source": [
    "from sklearn.svm import SVC\n",
    "from sklearn.metrics import classification_report\n",
    "\n",
    "# Initialize best model\n",
    "# Best parameters: {'C': 100, 'class_weight': 'balanced', 'gamma': 0.01, 'kernel': 'rbf'}\n",
    "model = SVC(kernel='rbf', random_state=42)\n",
    "\n",
    "# Train model\n",
    "model.fit(X_train, y_train)\n",
    "\n",
    "# Predict and evaluate\n",
    "y_pred = model.predict(X_test)\n",
    "\n",
    "print(\"Accuracy:\", accuracy_score(y_test, y_pred))\n",
    "print(\"Precision:\", precision_score(y_test, y_pred))\n",
    "print(\"Recall:\", recall_score(y_test, y_pred))\n",
    "print(\"ROC AUC:\", roc_auc_score(y_test, y_pred))\n",
    "\n",
    "print(classification_report(y_test, y_pred, target_names=['Not Bot (0)', 'Bot (1)']))\n",
    "\n",
    "\n",
    "\n",
    "recall_scores = cross_val_score(model, X, y, cv=5, scoring='recall')\n",
    "print(f\"Cross-validation recall scores: {recall_scores}\")\n",
    "print(f\"Mean recall_scores: {recall_scores.mean()}\")"
   ]
  },
  {
   "cell_type": "markdown",
   "metadata": {},
   "source": [
    "## Conclusion\n",
    "\n",
    "The Support Vector Classifier (SVC) achieved an accuracy of 0.50 and an AUC score of 0.50, indicating that its overall predictive performance is close to random guessing. However, since recall was prioritized for bot detection, the model performed better in identifying bots, achieving a recall of 0.63 on the test set and a mean recall of 0.72 across cross-validation. This suggests that the model is effective at capturing bots but at the cost of lower precision.\n",
    "\n",
    "To further improve performance:\n",
    "\n",
    "- Enhance Features – Introduce new, more relevant features.\n",
    "- Address Class Imbalance – Use resampling techniques or adjust class weights.\n",
    "- Optimize Model Complexity – Experiment with different kernels, feature scaling, and hyperparameters.\n",
    "- Test Alternative Models – Explore tree-based models (e.g. Random Forest) or deep learning.\n",
    "- Leverage More Data – Incorporate additional behavioral signals or external datasets."
   ]
  }
 ],
 "metadata": {
  "kernelspec": {
   "display_name": "3.12.2",
   "language": "python",
   "name": "python3"
  },
  "language_info": {
   "codemirror_mode": {
    "name": "ipython",
    "version": 3
   },
   "file_extension": ".py",
   "mimetype": "text/x-python",
   "name": "python",
   "nbconvert_exporter": "python",
   "pygments_lexer": "ipython3",
   "version": "3.12.2"
  }
 },
 "nbformat": 4,
 "nbformat_minor": 2
}
